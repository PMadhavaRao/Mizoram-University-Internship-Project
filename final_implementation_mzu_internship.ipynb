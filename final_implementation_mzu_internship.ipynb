{
  "cells": [
    {
      "cell_type": "code",
      "execution_count": null,
      "metadata": {
        "colab": {
          "base_uri": "https://localhost:8080/"
        },
        "id": "vZ48Gu6ojeO3",
        "outputId": "29094dfa-7806-4b57-dbc9-d090ab645ce3"
      },
      "outputs": [
        {
          "name": "stdout",
          "output_type": "stream",
          "text": [
            "                                          image_path label\n",
            "0  /content/drive/MyDrive/both_images2/healthy (1...     1\n",
            "1  /content/drive/MyDrive/both_images2/healthy (1...     1\n",
            "2  /content/drive/MyDrive/both_images2/healthy (1...     1\n",
            "3  /content/drive/MyDrive/both_images2/healthy (1...     1\n",
            "4  /content/drive/MyDrive/both_images2/healthy(10...     1\n",
            "Number of invalid paths: 170\n",
            "/content/drive/MyDrive/both_images2/healthy(10).jpeg\n",
            "/content/drive/MyDrive/both_images2/healthy.png\n",
            "/content/drive/MyDrive/both_images2/healthy(101).jpg\n",
            "/content/drive/MyDrive/both_images2/healthy.jpg\n",
            "/content/drive/MyDrive/both_images2/healthy.jpg\n",
            "/content/drive/MyDrive/both_images2/healthy(105).jpg\n",
            "/content/drive/MyDrive/both_images2/healthy(107).jpg\n",
            "/content/drive/MyDrive/both_images2/healthy(11).jpeg\n",
            "/content/drive/MyDrive/both_images2/healthy(11).jpg\n",
            "/content/drive/MyDrive/both_images2/healthy (113).jpg\n",
            "There are still invalid paths. Please check the directory and filenames.\n"
          ]
        }
      ],
      "source": [
        "import pandas as pd\n",
        "import os\n",
        "# Load the CSV file\n",
        "csv_path = '/content/project_major.csv'\n",
        "df = pd.read_csv(csv_path)\n",
        "\n",
        "# Assign labels: first 474 images are healthy (label = '1'), remaining 291 are unhealthy (label = '0')\n",
        "df['label'] = ['1'] * 474 + ['0'] * 291\n",
        "\n",
        "# Replace backslashes with forward slashes in the image paths\n",
        "df['image_path'] = df['image_path'].str.replace('\\\\', '/')\n",
        "\n",
        "# Function to correct paths\n",
        "def correct_path(image_path):\n",
        "    base_dir = '/content/drive/MyDrive/both_images2'  # Adjust this based on your environment\n",
        "    filename = os.path.basename(image_path)  # Extract the filename\n",
        "    return os.path.join(base_dir, filename)  # Construct the new path\n",
        "\n",
        "# Apply the function to the 'image_path' column\n",
        "df['image_path'] = df['image_path'].apply(correct_path)\n",
        "\n",
        "# Verify the changes\n",
        "print(df.head())\n",
        "\n",
        "# Save the updated CSV (optional)\n",
        "df.to_csv('/content/project_corrected.csv', index=False)\n",
        "\n",
        "# Check if the new paths are valid\n",
        "invalid_paths = [path for path in df['image_path'] if not os.path.exists(path)]\n",
        "print(f\"Number of invalid paths: {len(invalid_paths)}\")\n",
        "\n",
        "# Display some invalid paths if there are any\n",
        "for path in invalid_paths[:10]:\n",
        "    print(path)\n",
        "\n",
        "if len(invalid_paths) > 0:\n",
        "    print(\"There are still invalid paths. Please check the directory and filenames.\")\n",
        "else:\n",
        "    print(\"All paths are valid.\")\n"
      ]
    },
    {
      "cell_type": "code",
      "execution_count": null,
      "metadata": {
        "colab": {
          "base_uri": "https://localhost:8080/"
        },
        "id": "c2zqYWVAjeSW",
        "outputId": "455b9f69-2fe0-4c52-f851-d3e6e40657f8"
      },
      "outputs": [
        {
          "name": "stdout",
          "output_type": "stream",
          "text": [
            "Found 478 validated image filenames belonging to 2 classes.\n",
            "Found 116 validated image filenames belonging to 2 classes.\n"
          ]
        },
        {
          "name": "stderr",
          "output_type": "stream",
          "text": [
            "/usr/local/lib/python3.10/dist-packages/keras/src/preprocessing/image.py:1137: UserWarning: Found 134 invalid image filename(s) in x_col=\"image_path\". These filename(s) will be ignored.\n",
            "  warnings.warn(\n",
            "/usr/local/lib/python3.10/dist-packages/keras/src/preprocessing/image.py:1137: UserWarning: Found 37 invalid image filename(s) in x_col=\"image_path\". These filename(s) will be ignored.\n",
            "  warnings.warn(\n"
          ]
        }
      ],
      "source": [
        "from sklearn.model_selection import train_test_split\n",
        "from tensorflow.keras.preprocessing.image import ImageDataGenerator\n",
        "\n",
        "# Ensure labels are strings\n",
        "df['label'] = df['label'].astype(str)\n",
        "\n",
        "# Split the data into training and validation sets\n",
        "train_df, val_df = train_test_split(df, test_size=0.2, random_state=42)\n",
        "\n",
        "# Image data generators\n",
        "train_datagen = ImageDataGenerator(rescale=1./255)\n",
        "val_datagen = ImageDataGenerator(rescale=1./255)\n",
        "\n",
        "train_generator = train_datagen.flow_from_dataframe(\n",
        "    train_df,\n",
        "    x_col='image_path',\n",
        "    y_col='label',\n",
        "    target_size=(128, 128),\n",
        "    batch_size=32,\n",
        "    class_mode='binary'\n",
        ")\n",
        "\n",
        "val_generator = val_datagen.flow_from_dataframe(\n",
        "    val_df,\n",
        "    x_col='image_path',\n",
        "    y_col='label',\n",
        "    target_size=(128, 128),\n",
        "    batch_size=32,\n",
        "    class_mode='binary'\n",
        ")\n"
      ]
    },
    {
      "cell_type": "code",
      "execution_count": null,
      "metadata": {
        "id": "fINhQv4ejeV3"
      },
      "outputs": [],
      "source": []
    },
    {
      "cell_type": "code",
      "execution_count": null,
      "metadata": {
        "id": "5gkc1UsbkcvE"
      },
      "outputs": [],
      "source": [
        "from tensorflow.keras.models import Sequential\n",
        "from tensorflow.keras.layers import Conv2D, MaxPooling2D, Flatten, Dense, Dropout\n",
        "\n",
        "# Build the CNN model\n",
        "model = Sequential([\n",
        "    Conv2D(32, (3, 3), activation='relu', input_shape=(128, 128, 3)),\n",
        "    MaxPooling2D((2, 2)),\n",
        "    Conv2D(64, (3, 3), activation='relu'),\n",
        "    MaxPooling2D((2, 2)),\n",
        "    Conv2D(128, (3, 3), activation='relu'),\n",
        "    MaxPooling2D((2, 2)),\n",
        "    Flatten(),\n",
        "    Dense(512, activation='relu'),\n",
        "    Dropout(0.5),\n",
        "    Dense(1, activation='sigmoid')\n",
        "])\n"
      ]
    },
    {
      "cell_type": "code",
      "execution_count": null,
      "metadata": {
        "colab": {
          "base_uri": "https://localhost:8080/"
        },
        "id": "CgqDim2Vkdm7",
        "outputId": "019d4c04-dc9d-46cb-d915-88cb33c2e8f4"
      },
      "outputs": [
        {
          "name": "stdout",
          "output_type": "stream",
          "text": [
            "Model built and compiled.\n"
          ]
        }
      ],
      "source": [
        "model.compile(optimizer='adam', loss='binary_crossentropy', metrics=['accuracy'])\n",
        "print(\"Model built and compiled.\")\n"
      ]
    },
    {
      "cell_type": "code",
      "execution_count": null,
      "metadata": {
        "colab": {
          "base_uri": "https://localhost:8080/"
        },
        "id": "yjchic_Nr2A0",
        "outputId": "73d684cb-08f0-4d6c-dae8-e8f405fbd8db"
      },
      "outputs": [
        {
          "name": "stdout",
          "output_type": "stream",
          "text": [
            "Epoch 1/10\n",
            "15/15 [==============================] - 145s 9s/step - loss: 0.6420 - accuracy: 0.6653 - val_loss: 0.3591 - val_accuracy: 0.8621\n",
            "Epoch 2/10\n",
            "15/15 [==============================] - 28s 2s/step - loss: 0.3129 - accuracy: 0.8766 - val_loss: 0.2026 - val_accuracy: 0.9224\n",
            "Epoch 3/10\n",
            "15/15 [==============================] - 24s 2s/step - loss: 0.2021 - accuracy: 0.9121 - val_loss: 0.2134 - val_accuracy: 0.8879\n",
            "Epoch 4/10\n",
            "15/15 [==============================] - 26s 2s/step - loss: 0.1826 - accuracy: 0.9289 - val_loss: 0.3047 - val_accuracy: 0.8793\n",
            "Epoch 5/10\n",
            "15/15 [==============================] - 26s 2s/step - loss: 0.1918 - accuracy: 0.9289 - val_loss: 0.1663 - val_accuracy: 0.9483\n",
            "Epoch 6/10\n",
            "15/15 [==============================] - 24s 2s/step - loss: 0.1330 - accuracy: 0.9498 - val_loss: 0.2039 - val_accuracy: 0.9138\n",
            "Epoch 7/10\n",
            "15/15 [==============================] - 27s 2s/step - loss: 0.1046 - accuracy: 0.9707 - val_loss: 0.1618 - val_accuracy: 0.9224\n",
            "Epoch 8/10\n",
            "15/15 [==============================] - 24s 2s/step - loss: 0.0981 - accuracy: 0.9582 - val_loss: 0.1875 - val_accuracy: 0.9483\n",
            "Epoch 9/10\n",
            "15/15 [==============================] - 26s 2s/step - loss: 0.0676 - accuracy: 0.9812 - val_loss: 0.2158 - val_accuracy: 0.9310\n",
            "Epoch 10/10\n",
            "15/15 [==============================] - 28s 2s/step - loss: 0.0754 - accuracy: 0.9812 - val_loss: 0.1589 - val_accuracy: 0.9397\n"
          ]
        }
      ],
      "source": [
        "# Train the model\n",
        "history = model.fit(\n",
        "    train_generator,\n",
        "    validation_data=val_generator,\n",
        "    epochs=10\n",
        ")\n"
      ]
    },
    {
      "cell_type": "code",
      "execution_count": null,
      "metadata": {
        "colab": {
          "base_uri": "https://localhost:8080/"
        },
        "id": "SzoAlXOysbTQ",
        "outputId": "dedcf3d7-fb67-45cf-cc22-7d6af52bdf1e"
      },
      "outputs": [
        {
          "name": "stderr",
          "output_type": "stream",
          "text": [
            "/usr/local/lib/python3.10/dist-packages/keras/src/engine/training.py:3103: UserWarning: You are saving your model as an HDF5 file via `model.save()`. This file format is considered legacy. We recommend using instead the native Keras format, e.g. `model.save('my_model.keras')`.\n",
            "  saving_api.save_model(\n"
          ]
        },
        {
          "name": "stdout",
          "output_type": "stream",
          "text": [
            "Model trained and saved.\n"
          ]
        }
      ],
      "source": [
        "# Save the model\n",
        "model.save('/content/scalp_psoriasis_model.h5')\n",
        "print(\"Model trained and saved.\")\n"
      ]
    },
    {
      "cell_type": "code",
      "execution_count": null,
      "metadata": {
        "colab": {
          "base_uri": "https://localhost:8080/",
          "height": 410
        },
        "id": "X4xBPtXmkdqg",
        "outputId": "2209b677-b8fc-47ff-f7c2-49fe7f25c1ca"
      },
      "outputs": [
        {
          "data": {
            "image/png": "[encoded data removed]",
            "text/plain": [
              "<Figure size 1200x400 with 2 Axes>"
            ]
          },
          "metadata": {},
          "output_type": "display_data"
        }
      ],
      "source": [
        "import matplotlib.pyplot as plt\n",
        "\n",
        "# Plot training & validation accuracy values\n",
        "plt.figure(figsize=(12, 4))\n",
        "\n",
        "plt.subplot(1, 2, 1)\n",
        "plt.plot(history.history['accuracy'])\n",
        "plt.plot(history.history['val_accuracy'])\n",
        "plt.title('Model accuracy')\n",
        "plt.ylabel('Accuracy')\n",
        "plt.xlabel('Epoch')\n",
        "plt.legend(['Train', 'Validation'], loc='upper left')\n",
        "\n",
        "# Plot training & validation loss values\n",
        "plt.subplot(1, 2, 2)\n",
        "plt.plot(history.history['loss'])\n",
        "plt.plot(history.history['val_loss'])\n",
        "plt.title('Model loss')\n",
        "plt.ylabel('Loss')\n",
        "plt.xlabel('Epoch')\n",
        "plt.legend(['Train', 'Validation'], loc='upper left')\n",
        "\n",
        "plt.show()\n"
      ]
    },
    {
      "cell_type": "code",
      "execution_count": null,
      "metadata": {
        "colab": {
          "base_uri": "https://localhost:8080/"
        },
        "id": "uJ9mOaO2t38W",
        "outputId": "c9fec815-ca0a-404a-819f-9f67d2450bde"
      },
      "outputs": [
        {
          "name": "stdout",
          "output_type": "stream",
          "text": [
            "4/4 [==============================] - 2s 399ms/step\n",
            "Confusion Matrix:\n",
            "[[29 29]\n",
            " [30 28]]\n"
          ]
        }
      ],
      "source": [
        "import numpy as np\n",
        "from sklearn.metrics import confusion_matrix\n",
        "import seaborn as sns\n",
        "import matplotlib.pyplot as plt\n",
        "\n",
        "# Make predictions on the validation set\n",
        "val_predictions = model.predict(val_generator)\n",
        "val_predictions = np.where(val_predictions > 0.5, 1, 0)  # Convert probabilities to class labels\n",
        "\n",
        "# Get true labels\n",
        "val_true_labels = val_generator.classes\n",
        "\n",
        "# Compute the confusion matrix\n",
        "conf_matrix = confusion_matrix(val_true_labels, val_predictions)\n",
        "\n",
        "# Print the confusion matrix\n",
        "print(\"Confusion Matrix:\")\n",
        "print(conf_matrix)\n"
      ]
    },
    {
      "cell_type": "code",
      "execution_count": null,
      "metadata": {
        "colab": {
          "base_uri": "https://localhost:8080/",
          "height": 564
        },
        "id": "4Yte43NIksIG",
        "outputId": "5182b127-6f41-4563-f773-de02ad5b1e1f"
      },
      "outputs": [
        {
          "data": {
            "image/png": "[encoded data removed]",
            "text/plain": [
              "<Figure size 800x600 with 2 Axes>"
            ]
          },
          "metadata": {},
          "output_type": "display_data"
        }
      ],
      "source": [
        "# Plot the heatmap\n",
        "import seaborn as sns\n",
        "\n",
        "plt.figure(figsize=(8, 6))\n",
        "sns.heatmap(conf_matrix, annot=True, fmt='d', cmap='Blues', xticklabels=['Unhealthy', 'Healthy'], yticklabels=['Unhealthy', 'Healthy'])\n",
        "plt.xlabel('Predicted Labels')\n",
        "plt.ylabel('True Labels')\n",
        "plt.title('Confusion Matrix Heatmap')\n",
        "plt.show()\n"
      ]
    },
    {
      "cell_type": "code",
      "execution_count": null,
      "metadata": {
        "colab": {
          "base_uri": "https://localhost:8080/"
        },
        "id": "v-Rbs8fMsUOb",
        "outputId": "dc71e9f5-284e-4ee3-b46b-614c510e09d1"
      },
      "outputs": [
        {
          "name": "stdout",
          "output_type": "stream",
          "text": [
            "1/1 [==============================] - 0s 36ms/step\n",
            "your scalp is Healthy\n"
          ]
        }
      ],
      "source": [
        "#prediction of model with user input\n",
        "from tensorflow.keras.preprocessing import image\n",
        "import numpy as np\n",
        "\n",
        "def classify_image(img_path, model):\n",
        "    img = image.load_img(img_path, target_size=(128, 128))\n",
        "    img_array = image.img_to_array(img) / 255.0\n",
        "    img_array = np.expand_dims(img_array, axis=0)\n",
        "\n",
        "    prediction = model.predict(img_array)\n",
        "    print(\"your scalp is\",end=\" \")\n",
        "    if prediction < 0.5:\n",
        "        print(\"Unhealthy\")\n",
        "    else:\n",
        "        print(\"Healthy\")\n",
        "\n",
        "# Example usage\n",
        "classify_image('/content/download.jpeg', model)\n"
      ]
    },
    {
      "cell_type": "code",
      "execution_count": null,
      "metadata": {
        "colab": {
          "base_uri": "https://localhost:8080/"
        },
        "id": "PXoXVicAuqlo",
        "outputId": "81e1f98a-8ea1-41e1-f646-1b2bb6c02fc6"
      },
      "outputs": [
        {
          "name": "stdout",
          "output_type": "stream",
          "text": [
            "1/1 [==============================] - 0s 34ms/step\n",
            "your scalp is Unhealthy\n"
          ]
        }
      ],
      "source": [
        "#prediction of model with user input\n",
        "from tensorflow.keras.preprocessing import image\n",
        "import numpy as np\n",
        "\n",
        "def classify_image(img_path, model):\n",
        "    img = image.load_img(img_path, target_size=(128, 128))\n",
        "    img_array = image.img_to_array(img) / 255.0\n",
        "    img_array = np.expand_dims(img_array, axis=0)\n",
        "\n",
        "    prediction = model.predict(img_array)\n",
        "    print(\"your scalp is\",end=\" \")\n",
        "    if prediction < 0.5:\n",
        "        print(\"Unhealthy\")\n",
        "    else:\n",
        "        print(\"Healthy\")\n",
        "\n",
        "# Example usage\n",
        "classify_image('/content/download 2.jpeg', model)\n"
      ]
    },
    {
      "cell_type": "code",
      "execution_count": null,
      "metadata": {
        "colab": {
          "base_uri": "https://localhost:8080/"
        },
        "id": "hrh88F25xtis",
        "outputId": "8ad8410b-8962-480e-ba1f-fc44d787678f"
      },
      "outputs": [
        {
          "name": "stdout",
          "output_type": "stream",
          "text": [
            "1/1 [==============================] - 0s 35ms/step\n",
            "your scalp is Healthy\n"
          ]
        }
      ],
      "source": [
        "#prediction of model with user input\n",
        "from tensorflow.keras.preprocessing import image\n",
        "import numpy as np\n",
        "\n",
        "def classify_image(img_path, model):\n",
        "    img = image.load_img(img_path, target_size=(128, 128))\n",
        "    img_array = image.img_to_array(img) / 255.0\n",
        "    img_array = np.expand_dims(img_array, axis=0)\n",
        "\n",
        "    prediction = model.predict(img_array)\n",
        "    print(\"your scalp is\",end=\" \")\n",
        "    if prediction < 0.5:\n",
        "        print(\"Unhealthy\")\n",
        "    else:\n",
        "        print(\"Healthy\")\n",
        "\n",
        "# Example usage\n",
        "classify_image('/content/drive/MyDrive/both_images2/healthy (1).jpeg', model)\n"
      ]
    },
    {
      "cell_type": "code",
      "execution_count": null,
      "metadata": {
        "colab": {
          "base_uri": "https://localhost:8080/"
        },
        "id": "zF5E6FXNsUR5",
        "outputId": "b33dee50-729f-4c41-a87e-ce24c8be2a54"
      },
      "outputs": [
        {
          "name": "stdout",
          "output_type": "stream",
          "text": [
            "4/4 [==============================] - 3s 483ms/step - loss: 0.1589 - accuracy: 0.9397\n",
            "15/15 [==============================] - 8s 550ms/step - loss: 0.0323 - accuracy: 0.9979\n",
            "Validation Accuracy: 93.97%\n",
            "test accruacy: 99.79%\n"
          ]
        }
      ],
      "source": [
        "# Evaluate the model on the validation set\n",
        "val_loss, val_accuracy = model.evaluate(val_generator)\n",
        "val_loss,test_acc=model.evaluate(train_generator)\n",
        "\n",
        "print(f\"Validation Accuracy: {val_accuracy * 100:.2f}%\")\n",
        "\n",
        "print(f\"test accruacy: {test_acc * 100:.2f}%\")\n"
      ]
    },
    {
      "cell_type": "code",
      "execution_count": null,
      "metadata": {
        "id": "oUSosJuAsUaM"
      },
      "outputs": [],
      "source": []
    }
  ],
  "metadata": {
    "colab": {
      "provenance": []
    },
    "kernelspec": {
      "display_name": "Python 3",
      "name": "python3"
    },
    "language_info": {
      "name": "python"
    }
  },
  "nbformat": 4,
  "nbformat_minor": 0
}
